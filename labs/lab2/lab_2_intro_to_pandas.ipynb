{
 "cells": [
  {
   "cell_type": "markdown",
   "metadata": {},
   "source": [
    "<img src=\"images\\Logo_UCLL_ENG_RGB.png\" style=\"background-color:white;\" />\n",
    "\n",
    "# Data Analytics & Machine learning\n",
    "\n",
    "Lecturers: Aimée Lynn Backiel, Chidi Nweke, Daan Nijs\n",
    "\n",
    "Academic year 2023-2024\n",
    "\n",
    "## Lab 2: Introduction to the case and Pandas"
   ]
  },
  {
   "cell_type": "markdown",
   "metadata": {},
   "source": [
    "### Lecture outline\n",
    "\n",
    "1. Recap last week\n",
    "2. Introduction to the case\n",
    "3. Data exploration using Pandas\n",
    "   1. Univariate analysis\n",
    "   2. Bivariate analysis"
   ]
  },
  {
   "cell_type": "markdown",
   "metadata": {},
   "source": [
    "### Recap of last lecture(s)\n",
    "\n",
    "#### Week 1\n",
    "\n",
    "1. We ensured we had a valid Python installation.\n",
    "2. We learnt what a virtual environment is:\n",
    "   * Isolated Python executable and packages.\n",
    "   * We created a virtual environment.\n",
    "3. Absolute path vs relative path recap.\n",
    "4. Recap of data structures in Python"
   ]
  },
  {
   "cell_type": "markdown",
   "metadata": {},
   "source": [
    "### The case"
   ]
  },
  {
   "cell_type": "markdown",
   "metadata": {},
   "source": [
    "Ada Turing Travelogue, or as everyone calls her, Ada just started working part time at her parents travel agency. She has a keen understanding and interest of everything related to applied computer science ranging from server & system management to full stack software development. Through database foundations she already understands how to query data and programming 1 and 2 covered the essentials about the Python programming language. Recently she has just decided to start learning about data analytics & machine learning as well.\n",
    "\n",
    "She uses her skills to connect to the travel agency's database where she finds many, normalized, tables. Ada recalls what she learnt in database foundations and performs all the correct joins. Afterwards she saves the data in the `data/` folder.\n",
    "\n",
    "\n",
    "She finds the following dataset:\n",
    "\n",
    "| Column Name          | Description                                                                                       |\n",
    "| -------------------- | ------------------------------------------------------------------------------------------------- |\n",
    "| SalesID              | Unique identifier for each sale.                                                                  |\n",
    "| Age                  | Age of the traveler.                                                                              |\n",
    "| Country              | Country of origin of the traveler.                                                                |\n",
    "| Membership_Status    | Membership level of the traveler in the booking system; could be 'standard', 'silver', or 'gold'. |\n",
    "| Previous_Purchases   | Number of previous bookings made by the traveler.                                                 |\n",
    "| Destination          | Travel destination chosen by the traveler.                                                        |\n",
    "| Stay_length          | Duration of stay at the destination.                                                              |\n",
    "| Guests               | Number of guests traveling (including the primary traveler).                                             |\n",
    "| Travel_month         | Month in which the travel is scheduled.                                                           |\n",
    "| Months_before_travel | Number of months prior to travel that the booking was made.                                       |\n",
    "| Earlybird_discount   | Boolean flag indicating whether the traveler received an early bird discount.                     |\n",
    "| Package_Type         | Type of travel package chosen by the traveler.                                                    |\n",
    "| Cost                 | Calculated cost of the travel package.                                                            |\n",
    "| Margin | The cost (for the traveler) - what the travel agency pays. |\n",
    " | Additional_Services_Cost| The amount of additional services (towels, car rentals, room service, ...) that was bought during the trip. |\n"
   ]
  },
  {
   "cell_type": "markdown",
   "metadata": {},
   "source": [
    "### Helping Ada explore the dataset"
   ]
  },
  {
   "cell_type": "markdown",
   "metadata": {},
   "source": [
    "The main goal for the remainder of this lab is to explore the data. We will specifically take four columns:\n",
    "\n",
    "* Cost\n",
    "* age\n",
    "* stay length\n",
    "* Destination\n",
    "\n",
    "Our goal is to find interesting relationships between them.\n",
    "\n",
    "As was covered in the book and lecture there are to main data types in analytics: categorical and continuous data. This is a crucial first step in your analysis because it determines what methods make sense on your data.\n"
   ]
  },
  {
   "cell_type": "markdown",
   "metadata": {},
   "source": [
    "**The goal is primarily to find out what influences the cost of the stay.**"
   ]
  },
  {
   "cell_type": "markdown",
   "metadata": {},
   "source": [
    "### Introduction to Pandas\n",
    "\n",
    "<center><img src=\"images\\pandas_logo.png\"  style=\"background-color:white;\"></center>"
   ]
  },
  {
   "cell_type": "markdown",
   "metadata": {},
   "source": [
    "Pandas stands for panel data, a type of dataset used in economics. Although this was the reason Pandas was invented, it is widely used in across analytics and one of Python's many \"killer apps\". Essentially, it's a package that makes Python unique compared to some of its competitors."
   ]
  },
  {
   "cell_type": "markdown",
   "metadata": {},
   "source": [
    "#### Installing Pandas"
   ]
  },
  {
   "cell_type": "markdown",
   "metadata": {},
   "source": [
    "\n",
    "Before we start it is a good idea to check if you have pandas installed yet. You can do that with the following command in a notebook cell `!pip list`. Notice the exclamation mark (!), it allows you to run things in a code cell as it were a terminal. You can also open the terminal itself and write `pip list`.\n"
   ]
  },
  {
   "cell_type": "code",
   "execution_count": null,
   "metadata": {},
   "outputs": [],
   "source": [
    "!pip list"
   ]
  },
  {
   "cell_type": "markdown",
   "metadata": {},
   "source": [
    "\n",
    "`pip list` shows you the full set of packages you have installed. If you are making this lab from Google colab Pandas will already be installed. You can double check this with `!pip list | grep pandas`. `|` is the pipe operator which gives the result of the preceding statement to `grep` which searches the text for Pandas. You can run this on unix-based operating systems as well. If you are on Windows you can run the command: `!pip list | findstr pandas`.\n"
   ]
  },
  {
   "cell_type": "code",
   "execution_count": null,
   "metadata": {},
   "outputs": [],
   "source": [
    "!pip list | findstr pandas"
   ]
  },
  {
   "cell_type": "markdown",
   "metadata": {},
   "source": [
    "\n",
    "**❗ If you have a long list of packages and you are not working from google Colab that is likely an indication you're not working from a virtual environment. Follow the instructions that were listed in the beginning of the class, ask us or send us an e-mail.**"
   ]
  },
  {
   "cell_type": "markdown",
   "metadata": {},
   "source": [
    "If you're working locally and have followed the instructions Pandas will not be installed yet. You can do so by running `pip install pandas` in the terminal or in a code cell (including the exclamation mark)."
   ]
  },
  {
   "cell_type": "code",
   "execution_count": null,
   "metadata": {},
   "outputs": [],
   "source": [
    "# Uncomment to install Pandas\n",
    "\n",
    "#!pip install pandas"
   ]
  },
  {
   "cell_type": "markdown",
   "metadata": {},
   "source": [
    "#### Reading and exploring data"
   ]
  },
  {
   "cell_type": "markdown",
   "metadata": {},
   "source": [
    "It's important to know that Pandas is a massive library with a lot of features. For the scope of this course you won't need a lot of it. We recommend you to look at the <a href=./Pandas_Cheat_Sheet.pdf>the cheat sheet</a> to discover what functionality Pandas has. We also recommend you to read the documentation of some of the functions we are using."
   ]
  },
  {
   "cell_type": "markdown",
   "metadata": {},
   "source": [
    "Pandas is typically imported as pd by convention. The package makes it incredibly easy to read and write data from different file formats. On top of that it comes with many operations that make working with data easy."
   ]
  },
  {
   "cell_type": "code",
   "execution_count": 2,
   "metadata": {},
   "outputs": [
    {
     "name": "stdout",
     "output_type": "stream",
     "text": [
      "Collecting pandas\n",
      "  Downloading pandas-2.2.3-cp311-cp311-win_amd64.whl (11.6 MB)\n",
      "     ---------------------------------------- 11.6/11.6 MB 2.6 MB/s eta 0:00:00\n",
      "Collecting numpy>=1.23.2\n",
      "  Downloading numpy-2.1.2-cp311-cp311-win_amd64.whl (12.9 MB)\n",
      "     ---------------------------------------- 12.9/12.9 MB 2.6 MB/s eta 0:00:00\n",
      "Requirement already satisfied: python-dateutil>=2.8.2 in c:\\users\\u0086305\\documents\\daml\\daml course materials\\daml-students-2425\\daml\\lib\\site-packages (from pandas) (2.9.0.post0)\n",
      "Collecting pytz>=2020.1\n",
      "  Downloading pytz-2024.2-py2.py3-none-any.whl (508 kB)\n",
      "     -------------------------------------- 508.0/508.0 kB 3.2 MB/s eta 0:00:00\n",
      "Collecting tzdata>=2022.7\n",
      "  Downloading tzdata-2024.2-py2.py3-none-any.whl (346 kB)\n",
      "     -------------------------------------- 346.6/346.6 kB 2.2 MB/s eta 0:00:00\n",
      "Requirement already satisfied: six>=1.5 in c:\\users\\u0086305\\documents\\daml\\daml course materials\\daml-students-2425\\daml\\lib\\site-packages (from python-dateutil>=2.8.2->pandas) (1.16.0)\n",
      "Installing collected packages: pytz, tzdata, numpy, pandas\n",
      "Successfully installed numpy-2.1.2 pandas-2.2.3 pytz-2024.2 tzdata-2024.2\n"
     ]
    },
    {
     "name": "stderr",
     "output_type": "stream",
     "text": [
      "\n",
      "[notice] A new release of pip available: 22.3 -> 24.2\n",
      "[notice] To update, run: python.exe -m pip install --upgrade pip\n"
     ]
    }
   ],
   "source": [
    "import pandas as pd # by convention"
   ]
  },
  {
   "cell_type": "markdown",
   "metadata": {},
   "source": [
    "###### 💻📊💡<a href=\"https://pandas.pydata.org/docs/reference/api/pandas.read_csv.html\"> `pd.read_csv` is used to read data from a filepath.</a>\n"
   ]
  },
  {
   "cell_type": "code",
   "execution_count": 3,
   "metadata": {},
   "outputs": [],
   "source": [
    "travel_dataset = pd.read_csv(\"data/lab_2_dataset.csv\")"
   ]
  },
  {
   "cell_type": "markdown",
   "metadata": {},
   "source": [
    "##### ❓ To be sure: did we use a relative or an absolute path?"
   ]
  },
  {
   "cell_type": "markdown",
   "metadata": {},
   "source": [
    "One of the first things you typically do with a dataset is print out the first few rows. "
   ]
  },
  {
   "cell_type": "markdown",
   "metadata": {},
   "source": [
    "##### 💻📊💡 <a href=https://pandas.pydata.org/docs/reference/api/pandas.DataFrame.head.html>dataframe.head() prints out the first few lines of the dataframe.</a>\n"
   ]
  },
  {
   "cell_type": "code",
   "execution_count": 4,
   "metadata": {},
   "outputs": [
    {
     "data": {
      "text/html": [
       "<div>\n",
       "<style scoped>\n",
       "    .dataframe tbody tr th:only-of-type {\n",
       "        vertical-align: middle;\n",
       "    }\n",
       "\n",
       "    .dataframe tbody tr th {\n",
       "        vertical-align: top;\n",
       "    }\n",
       "\n",
       "    .dataframe thead th {\n",
       "        text-align: right;\n",
       "    }\n",
       "</style>\n",
       "<table border=\"1\" class=\"dataframe\">\n",
       "  <thead>\n",
       "    <tr style=\"text-align: right;\">\n",
       "      <th></th>\n",
       "      <th>sales_id</th>\n",
       "      <th>age</th>\n",
       "      <th>country</th>\n",
       "      <th>membership_status</th>\n",
       "      <th>previous_purchases</th>\n",
       "      <th>destination</th>\n",
       "      <th>stay_length</th>\n",
       "      <th>guests</th>\n",
       "      <th>travel_month</th>\n",
       "      <th>months_before_travel</th>\n",
       "      <th>earlybird_discount</th>\n",
       "      <th>package_Type</th>\n",
       "      <th>cost</th>\n",
       "      <th>rating</th>\n",
       "      <th>margin</th>\n",
       "      <th>additional_services_cost</th>\n",
       "    </tr>\n",
       "  </thead>\n",
       "  <tbody>\n",
       "    <tr>\n",
       "      <th>0</th>\n",
       "      <td>1</td>\n",
       "      <td>47</td>\n",
       "      <td>UK</td>\n",
       "      <td>silver</td>\n",
       "      <td>1</td>\n",
       "      <td>Sydney</td>\n",
       "      <td>4</td>\n",
       "      <td>2</td>\n",
       "      <td>7</td>\n",
       "      <td>1</td>\n",
       "      <td>False</td>\n",
       "      <td>Adventure</td>\n",
       "      <td>1706.093478</td>\n",
       "      <td>6</td>\n",
       "      <td>1219.740722</td>\n",
       "      <td>291.061043</td>\n",
       "    </tr>\n",
       "    <tr>\n",
       "      <th>1</th>\n",
       "      <td>2</td>\n",
       "      <td>37</td>\n",
       "      <td>Italy</td>\n",
       "      <td>silver</td>\n",
       "      <td>5</td>\n",
       "      <td>Tokyo</td>\n",
       "      <td>4</td>\n",
       "      <td>2</td>\n",
       "      <td>8</td>\n",
       "      <td>4</td>\n",
       "      <td>False</td>\n",
       "      <td>Adventure</td>\n",
       "      <td>1779.956899</td>\n",
       "      <td>7</td>\n",
       "      <td>1570.387236</td>\n",
       "      <td>405.516446</td>\n",
       "    </tr>\n",
       "    <tr>\n",
       "      <th>2</th>\n",
       "      <td>3</td>\n",
       "      <td>49</td>\n",
       "      <td>USA</td>\n",
       "      <td>standard</td>\n",
       "      <td>2</td>\n",
       "      <td>Sydney</td>\n",
       "      <td>3</td>\n",
       "      <td>4</td>\n",
       "      <td>7</td>\n",
       "      <td>1</td>\n",
       "      <td>False</td>\n",
       "      <td>Cultural</td>\n",
       "      <td>2829.920469</td>\n",
       "      <td>6</td>\n",
       "      <td>2360.488698</td>\n",
       "      <td>285.364191</td>\n",
       "    </tr>\n",
       "    <tr>\n",
       "      <th>3</th>\n",
       "      <td>4</td>\n",
       "      <td>62</td>\n",
       "      <td>Spain</td>\n",
       "      <td>silver</td>\n",
       "      <td>2</td>\n",
       "      <td>Cape Town</td>\n",
       "      <td>7</td>\n",
       "      <td>2</td>\n",
       "      <td>1</td>\n",
       "      <td>3</td>\n",
       "      <td>True</td>\n",
       "      <td>Adventure</td>\n",
       "      <td>2789.528342</td>\n",
       "      <td>7</td>\n",
       "      <td>2315.659102</td>\n",
       "      <td>747.533464</td>\n",
       "    </tr>\n",
       "    <tr>\n",
       "      <th>4</th>\n",
       "      <td>5</td>\n",
       "      <td>36</td>\n",
       "      <td>Germany</td>\n",
       "      <td>silver</td>\n",
       "      <td>3</td>\n",
       "      <td>Paris</td>\n",
       "      <td>9</td>\n",
       "      <td>3</td>\n",
       "      <td>2</td>\n",
       "      <td>7</td>\n",
       "      <td>False</td>\n",
       "      <td>Adventure</td>\n",
       "      <td>5357.997309</td>\n",
       "      <td>5</td>\n",
       "      <td>5042.139271</td>\n",
       "      <td>1117.092552</td>\n",
       "    </tr>\n",
       "  </tbody>\n",
       "</table>\n",
       "</div>"
      ],
      "text/plain": [
       "   sales_id  age  country membership_status  previous_purchases destination  \\\n",
       "0         1   47       UK            silver                   1      Sydney   \n",
       "1         2   37    Italy            silver                   5       Tokyo   \n",
       "2         3   49      USA          standard                   2      Sydney   \n",
       "3         4   62    Spain            silver                   2   Cape Town   \n",
       "4         5   36  Germany            silver                   3       Paris   \n",
       "\n",
       "   stay_length  guests  travel_month  months_before_travel  \\\n",
       "0            4       2             7                     1   \n",
       "1            4       2             8                     4   \n",
       "2            3       4             7                     1   \n",
       "3            7       2             1                     3   \n",
       "4            9       3             2                     7   \n",
       "\n",
       "   earlybird_discount package_Type         cost  rating       margin  \\\n",
       "0               False    Adventure  1706.093478       6  1219.740722   \n",
       "1               False    Adventure  1779.956899       7  1570.387236   \n",
       "2               False     Cultural  2829.920469       6  2360.488698   \n",
       "3                True    Adventure  2789.528342       7  2315.659102   \n",
       "4               False    Adventure  5357.997309       5  5042.139271   \n",
       "\n",
       "   additional_services_cost  \n",
       "0                291.061043  \n",
       "1                405.516446  \n",
       "2                285.364191  \n",
       "3                747.533464  \n",
       "4               1117.092552  "
      ]
     },
     "execution_count": 4,
     "metadata": {},
     "output_type": "execute_result"
    }
   ],
   "source": [
    "travel_dataset.head()"
   ]
  },
  {
   "cell_type": "markdown",
   "metadata": {},
   "source": [
    "Accessing the columns is equally trivial."
   ]
  },
  {
   "cell_type": "code",
   "execution_count": null,
   "metadata": {},
   "outputs": [],
   "source": [
    "travel_dataset.columns"
   ]
  },
  {
   "cell_type": "markdown",
   "metadata": {},
   "source": [
    "Before we proceed we will take a subset of our dataset cost, age, stay length and destination. Doing so is similar to working with dictionaries."
   ]
  },
  {
   "cell_type": "code",
   "execution_count": null,
   "metadata": {},
   "outputs": [],
   "source": [
    "travel_dataset[\"country\"]"
   ]
  },
  {
   "cell_type": "code",
   "execution_count": null,
   "metadata": {},
   "outputs": [],
   "source": [
    "travel_dataset[\"age\"]"
   ]
  },
  {
   "cell_type": "code",
   "execution_count": null,
   "metadata": {},
   "outputs": [],
   "source": [
    "travel_dataset[\"stay_length\"]"
   ]
  },
  {
   "cell_type": "markdown",
   "metadata": {},
   "source": [
    "To get multiple columns at once we need to pass in a list of columns"
   ]
  },
  {
   "cell_type": "code",
   "execution_count": null,
   "metadata": {},
   "outputs": [],
   "source": [
    "columns = [\"country\", \"stay_length\", \"age\", \"cost\"]\n",
    "travel_dataset_subset = travel_dataset[columns]\n",
    "travel_dataset_subset"
   ]
  },
  {
   "cell_type": "markdown",
   "metadata": {},
   "source": [
    "#### Intermezzo: Series and Dataframes are mutable"
   ]
  },
  {
   "cell_type": "markdown",
   "metadata": {},
   "source": [
    "The first important thing to notice about Pandas dataframe is that they are a combination of Pandas Series (columns).\n",
    "\n",
    "<center><img src=\"images\\df_vs_series.png\"  style=\"background-color:white;\"></center>\n",
    "\n",
    "**❗ Pandas Series and Dataframes are mutable. This can be a big source of frustration and unexpected behavior.**\n"
   ]
  },
  {
   "cell_type": "code",
   "execution_count": null,
   "metadata": {},
   "outputs": [],
   "source": [
    "# The easiest way to make a dataframe is start from a list of dictionaries\n",
    "\n",
    "students = [{\"name\": \"Omar\", \"age\": 21}, {\"name\": \"Alisha\", \"age\":19}, {\"name\": \"Joost\", \"age\":18}]\n",
    "students_df = pd.DataFrame(students)\n",
    "students_df"
   ]
  },
  {
   "cell_type": "code",
   "execution_count": null,
   "metadata": {},
   "outputs": [],
   "source": [
    "type(students_df)"
   ]
  },
  {
   "cell_type": "code",
   "execution_count": null,
   "metadata": {},
   "outputs": [],
   "source": [
    "students_df[\"name\"]"
   ]
  },
  {
   "cell_type": "code",
   "execution_count": null,
   "metadata": {},
   "outputs": [],
   "source": [
    "type(students_df[\"name\"])"
   ]
  },
  {
   "cell_type": "code",
   "execution_count": null,
   "metadata": {},
   "outputs": [],
   "source": [
    "student_names = students_df[\"name\"]\n",
    "student_names"
   ]
  },
  {
   "cell_type": "code",
   "execution_count": null,
   "metadata": {},
   "outputs": [],
   "source": [
    "# Pandas complains about you doing this.\n",
    "student_names[1] = \"Katrien\"\n",
    "student_names"
   ]
  },
  {
   "cell_type": "code",
   "execution_count": null,
   "metadata": {},
   "outputs": [],
   "source": [
    "students_df"
   ]
  },
  {
   "cell_type": "code",
   "execution_count": null,
   "metadata": {},
   "outputs": [],
   "source": [
    "# If you want to try something out an want to \"keep\" your original data\n",
    "students_copy = students_df.copy()\n",
    "student_names = students_copy[\"name\"]\n",
    "student_names[1] = \"Alisha\"\n",
    "students_copy"
   ]
  },
  {
   "cell_type": "code",
   "execution_count": null,
   "metadata": {},
   "outputs": [],
   "source": [
    "students_df"
   ]
  },
  {
   "cell_type": "markdown",
   "metadata": {},
   "source": [
    "As you can see Pandas is warning us of this behavior with *\"A value is trying to be set on a copy of a slice from a DataFrame\"*. The documentation and error message aren't particularly helpful for beginners but the small example above demonstrates what they mean and why it's a problem."
   ]
  },
  {
   "cell_type": "markdown",
   "metadata": {},
   "source": [
    "#### Data exploration: univariate"
   ]
  },
  {
   "cell_type": "markdown",
   "metadata": {},
   "source": [
    "After that short detour we now know that changing our subset `travel_dataset_subset` means we also change our original dataset. We will continue the exploration of our country, stay_length, age and cost variables.\n",
    "\n",
    "1. We will start with a univariate analysis, which means we will explore one (uni) variable (variate) at a time. \n",
    "2. Later on we will move to two (bi) variables (variate) analyses \n",
    "3. We round it up with methods that are able to do multivariate analysis. "
   ]
  },
  {
   "cell_type": "markdown",
   "metadata": {},
   "source": [
    "Recall that \n",
    "\n",
    "1. **Categorical variables** represent categories or labels (e.g., colors, genders). \n",
    "2. **Numeric variables** represent quantities and can be ordered or measured (e.g., age, height). \n",
    "3. There is a special case called **Ordinal variables**, these are categories where there is a meaningful order (e.g., clothes sizes: small, medium and large)."
   ]
  },
  {
   "cell_type": "markdown",
   "metadata": {},
   "source": [
    "##### ❓ Which variables are categorical and which are numeric?"
   ]
  },
  {
   "cell_type": "markdown",
   "metadata": {},
   "source": [
    "##### ❓ Do you recall how we can \"summarize\" or describe numeric variables?"
   ]
  },
  {
   "cell_type": "markdown",
   "metadata": {},
   "source": [
    "##### ❓ Carry this analysis out on the numeric variable(s).\n",
    "\n",
    "💻📊💡 TIP: the names of the functions are intuitive. For instance `dataframe[column].min()` gets the minimum of that column. It is equivalent to `select min(column) from dataframe` in SQL. Knowing SQL makes it easy to translate back and forth.\n",
    "\n",
    "💻📊💡 TIP: become good friends with the <a href=./Pandas_Cheat_Sheet.pdf>the cheat sheet</a> and the documentation"
   ]
  },
  {
   "cell_type": "markdown",
   "metadata": {},
   "source": [
    "##### ❓ Doing this one by one gets quite tedious. Is there any other way listed on the cheat sheet to do this for all variables at once?\n"
   ]
  },
  {
   "cell_type": "markdown",
   "metadata": {},
   "source": [
    "##### ❓ Carry this analysis out on the categorical variable(s).\n",
    "\n",
    "💻📊💡 TIP: `dataframe[column].value_counts()` is a very powerful method. It is equivalent to `select column, count(column) from dataframe group by column`. If you forget `value_counts()` exists you can get there using your SQL knowledge. `dataframe.groupby(\"column\").count()` also gets you very close."
   ]
  },
  {
   "cell_type": "code",
   "execution_count": 5,
   "metadata": {},
   "outputs": [
    {
     "data": {
      "text/html": [
       "<div>\n",
       "<style scoped>\n",
       "    .dataframe tbody tr th:only-of-type {\n",
       "        vertical-align: middle;\n",
       "    }\n",
       "\n",
       "    .dataframe tbody tr th {\n",
       "        vertical-align: top;\n",
       "    }\n",
       "\n",
       "    .dataframe thead th {\n",
       "        text-align: right;\n",
       "    }\n",
       "</style>\n",
       "<table border=\"1\" class=\"dataframe\">\n",
       "  <thead>\n",
       "    <tr style=\"text-align: right;\">\n",
       "      <th></th>\n",
       "      <th>sales_id</th>\n",
       "      <th>age</th>\n",
       "      <th>previous_purchases</th>\n",
       "      <th>stay_length</th>\n",
       "      <th>guests</th>\n",
       "      <th>travel_month</th>\n",
       "      <th>months_before_travel</th>\n",
       "      <th>cost</th>\n",
       "      <th>rating</th>\n",
       "      <th>margin</th>\n",
       "      <th>additional_services_cost</th>\n",
       "    </tr>\n",
       "  </thead>\n",
       "  <tbody>\n",
       "    <tr>\n",
       "      <th>count</th>\n",
       "      <td>10000.00000</td>\n",
       "      <td>10000.00000</td>\n",
       "      <td>10000.000000</td>\n",
       "      <td>10000.000000</td>\n",
       "      <td>10000.000000</td>\n",
       "      <td>10000.000000</td>\n",
       "      <td>10000.000000</td>\n",
       "      <td>10000.000000</td>\n",
       "      <td>10000.000000</td>\n",
       "      <td>10000.000000</td>\n",
       "      <td>10000.000000</td>\n",
       "    </tr>\n",
       "    <tr>\n",
       "      <th>mean</th>\n",
       "      <td>5000.50000</td>\n",
       "      <td>39.97590</td>\n",
       "      <td>3.477200</td>\n",
       "      <td>10.491400</td>\n",
       "      <td>2.475600</td>\n",
       "      <td>5.892800</td>\n",
       "      <td>3.552000</td>\n",
       "      <td>5750.918556</td>\n",
       "      <td>6.207400</td>\n",
       "      <td>5178.093586</td>\n",
       "      <td>1159.001002</td>\n",
       "    </tr>\n",
       "    <tr>\n",
       "      <th>std</th>\n",
       "      <td>2886.89568</td>\n",
       "      <td>14.00164</td>\n",
       "      <td>1.894001</td>\n",
       "      <td>7.053517</td>\n",
       "      <td>1.159801</td>\n",
       "      <td>3.698307</td>\n",
       "      <td>3.052708</td>\n",
       "      <td>5035.339341</td>\n",
       "      <td>0.953665</td>\n",
       "      <td>4812.321464</td>\n",
       "      <td>1112.082664</td>\n",
       "    </tr>\n",
       "    <tr>\n",
       "      <th>min</th>\n",
       "      <td>1.00000</td>\n",
       "      <td>18.00000</td>\n",
       "      <td>0.000000</td>\n",
       "      <td>1.000000</td>\n",
       "      <td>1.000000</td>\n",
       "      <td>1.000000</td>\n",
       "      <td>1.000000</td>\n",
       "      <td>94.285463</td>\n",
       "      <td>4.000000</td>\n",
       "      <td>-432.795923</td>\n",
       "      <td>-48.638258</td>\n",
       "    </tr>\n",
       "    <tr>\n",
       "      <th>25%</th>\n",
       "      <td>2500.75000</td>\n",
       "      <td>29.00000</td>\n",
       "      <td>2.000000</td>\n",
       "      <td>5.000000</td>\n",
       "      <td>2.000000</td>\n",
       "      <td>2.000000</td>\n",
       "      <td>1.000000</td>\n",
       "      <td>2293.912845</td>\n",
       "      <td>5.000000</td>\n",
       "      <td>1812.318019</td>\n",
       "      <td>417.602831</td>\n",
       "    </tr>\n",
       "    <tr>\n",
       "      <th>50%</th>\n",
       "      <td>5000.50000</td>\n",
       "      <td>39.00000</td>\n",
       "      <td>3.000000</td>\n",
       "      <td>9.000000</td>\n",
       "      <td>2.000000</td>\n",
       "      <td>6.000000</td>\n",
       "      <td>3.000000</td>\n",
       "      <td>4227.457435</td>\n",
       "      <td>6.000000</td>\n",
       "      <td>3763.087230</td>\n",
       "      <td>824.549900</td>\n",
       "    </tr>\n",
       "    <tr>\n",
       "      <th>75%</th>\n",
       "      <td>7500.25000</td>\n",
       "      <td>50.00000</td>\n",
       "      <td>5.000000</td>\n",
       "      <td>14.000000</td>\n",
       "      <td>3.000000</td>\n",
       "      <td>8.000000</td>\n",
       "      <td>5.000000</td>\n",
       "      <td>7561.063091</td>\n",
       "      <td>7.000000</td>\n",
       "      <td>6930.931556</td>\n",
       "      <td>1522.108462</td>\n",
       "    </tr>\n",
       "    <tr>\n",
       "      <th>max</th>\n",
       "      <td>10000.00000</td>\n",
       "      <td>80.00000</td>\n",
       "      <td>13.000000</td>\n",
       "      <td>68.000000</td>\n",
       "      <td>5.000000</td>\n",
       "      <td>12.000000</td>\n",
       "      <td>28.000000</td>\n",
       "      <td>56969.498138</td>\n",
       "      <td>9.000000</td>\n",
       "      <td>51197.505870</td>\n",
       "      <td>10991.199521</td>\n",
       "    </tr>\n",
       "  </tbody>\n",
       "</table>\n",
       "</div>"
      ],
      "text/plain": [
       "          sales_id          age  previous_purchases   stay_length  \\\n",
       "count  10000.00000  10000.00000        10000.000000  10000.000000   \n",
       "mean    5000.50000     39.97590            3.477200     10.491400   \n",
       "std     2886.89568     14.00164            1.894001      7.053517   \n",
       "min        1.00000     18.00000            0.000000      1.000000   \n",
       "25%     2500.75000     29.00000            2.000000      5.000000   \n",
       "50%     5000.50000     39.00000            3.000000      9.000000   \n",
       "75%     7500.25000     50.00000            5.000000     14.000000   \n",
       "max    10000.00000     80.00000           13.000000     68.000000   \n",
       "\n",
       "             guests  travel_month  months_before_travel          cost  \\\n",
       "count  10000.000000  10000.000000          10000.000000  10000.000000   \n",
       "mean       2.475600      5.892800              3.552000   5750.918556   \n",
       "std        1.159801      3.698307              3.052708   5035.339341   \n",
       "min        1.000000      1.000000              1.000000     94.285463   \n",
       "25%        2.000000      2.000000              1.000000   2293.912845   \n",
       "50%        2.000000      6.000000              3.000000   4227.457435   \n",
       "75%        3.000000      8.000000              5.000000   7561.063091   \n",
       "max        5.000000     12.000000             28.000000  56969.498138   \n",
       "\n",
       "             rating        margin  additional_services_cost  \n",
       "count  10000.000000  10000.000000              10000.000000  \n",
       "mean       6.207400   5178.093586               1159.001002  \n",
       "std        0.953665   4812.321464               1112.082664  \n",
       "min        4.000000   -432.795923                -48.638258  \n",
       "25%        5.000000   1812.318019                417.602831  \n",
       "50%        6.000000   3763.087230                824.549900  \n",
       "75%        7.000000   6930.931556               1522.108462  \n",
       "max        9.000000  51197.505870              10991.199521  "
      ]
     },
     "execution_count": 5,
     "metadata": {},
     "output_type": "execute_result"
    }
   ],
   "source": [
    "travel_dataset.describe()"
   ]
  },
  {
   "cell_type": "markdown",
   "metadata": {},
   "source": [
    "#### Data exploration: bivariate"
   ]
  },
  {
   "cell_type": "markdown",
   "metadata": {},
   "source": [
    "We will always also look at the combinations of variables and see if those have interesting insights.\n",
    "\n"
   ]
  },
  {
   "cell_type": "markdown",
   "metadata": {},
   "source": [
    "##### ❓ What pairs of variables do you think are interesting to look at?\n"
   ]
  },
  {
   "cell_type": "markdown",
   "metadata": {},
   "source": [
    "##### ❓ What methods can you use to do this?"
   ]
  },
  {
   "cell_type": "markdown",
   "metadata": {},
   "source": [
    "##### ❓ Carry out these analyses\n",
    "\n",
    "💻📊💡 TIP: Things like  `dataframe[[\"column1\", \"column2\"]].groupby(\"column1\").mean()` are valid Pandas. In SQL this would be `select column1, mean(column2) from dataframe group by column 1` "
   ]
  },
  {
   "cell_type": "markdown",
   "metadata": {},
   "source": [
    "That rounds up today's session. In the next session we will cover plotting in Python using Matplotlib and Seaborn. Right now all of your data analysis has been tables but plots are a lot more ergonomic to present your results in."
   ]
  }
 ],
 "metadata": {
  "kernelspec": {
   "display_name": "daml",
   "language": "python",
   "name": "python3"
  },
  "language_info": {
   "codemirror_mode": {
    "name": "ipython",
    "version": 3
   },
   "file_extension": ".py",
   "mimetype": "text/x-python",
   "name": "python",
   "nbconvert_exporter": "python",
   "pygments_lexer": "ipython3",
   "version": "3.11.0"
  },
  "orig_nbformat": 4
 },
 "nbformat": 4,
 "nbformat_minor": 2
}
