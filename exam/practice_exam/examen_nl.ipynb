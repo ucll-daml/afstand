{
 "cells": [
  {
   "cell_type": "markdown",
   "metadata": {},
   "source": [
    "<img src=\"images\\Logo_UCLL_ENG_RGB.png\" style=\"background-color:white;\" />\n",
    "\n",
    "# Data Analytics & Machine learning\n",
    "\n",
    "Lectoren: Aimée Lynn Backiel, Chidi Nweke, Daan Nijs\n",
    "\n",
    "Academiejaar 2024-2025\n",
    "\n",
    "## Oefenexamen: Spaceship titanic"
   ]
  },
  {
   "cell_type": "markdown",
   "metadata": {},
   "source": [
    "## Beschrijving\n",
    " \n",
    "> Welkom in het jaar 2912, waar uw vaardigheden in datawetenschap nodig zijn om een kosmisch mysterie op te lossen. We hebben een transmissie ontvangen van vier lichtjaren ver en de situatie ziet er niet goed uit. \n",
    "\n",
    "> Het Ruimteschip Titanic was een interstellaire passagiersliner die een maand geleden werd gelanceerd. Met bijna 13.000 passagiers aan boord, begon het schip aan zijn eerste reis om emigranten van ons zonnestelsel naar drie nieuw bewoonbare exoplaneten te vervoeren, die rond nabijgelegen sterren draaien. \n",
    "\n",
    "> Terwijl het Alpha Centauri passeerde op weg naar zijn eerste bestemming - de 55 Cancri E - botste het nietsvermoedende Ruimteschip Titanic met een ruimtetijdanomalie die verborgen lag in een stofwolk. Helaas onderging het een vergelijkbaar lot als zijn naamgenoot van 1000 jaar eerder. Hoewel het schip intact bleef, werden bijna de helft van de passagiers naar een alternatieve dimensie getransporteerd! \n",
    "\n",
    "1.\t**PassengerId** - Een unieke Id voor elke passagier. Elke Id heeft de vorm gggg_pp, waarbij gggg een groep aangeeft waarmee de passagier reist en pp hun nummer binnen de groep is. Mensen in een groep zijn vaak familieleden, maar niet altijd. \n",
    "\n",
    "2.\t**HomePlanet** - De planeet waarvandaan de passagier is vertrokken, doorgaans hun planeet van permanente verblijfplaats. \n",
    "\n",
    "3.\t**CryoSleep** - Geeft aan of de passagier heeft gekozen om in een gesuspendeerde animatie geplaatst te worden voor de duur van de reis. Passagiers in cryoslaap zijn beperkt tot hun cabine. \n",
    "\n",
    "4.\t**Cabin** – De cabinenummer waar de passagier verblijft. Heeft de vorm dek/nummer/zijde, waarbij zijde P voor Bakboord (Port in het Engels) of S voor Stuurboord kan zijn. \n",
    "\n",
    "5.\t**Destination** - De planeet waar de passagier zal ontschepen. \n",
    "\n",
    "6.\t**Age** - De leeftijd van de passagier. \n",
    "\n",
    "7.\t**VIP** - Of de passagier heeft betaald voor speciale VIP-service tijdens de reis.\n",
    "\n",
    "8.\t**RoomService**, FoodCourt, ShoppingMall, Spa, VRDeck - Het bedrag dat de passagier heeft gefactureerd bij elk van de vele luxueuze voorzieningen van het Ruimteschip Titanic. \n",
    "\n",
    "9.\t**Name** - De voor- en achternaam van de passagier. \n",
    "\n",
    "10.\t**Transported** - Of de passagier naar een andere dimensie is getransporteerd. Dit is het doel, de kolom die je probeert te voorspellen. \n",
    "\n",
    "[bron: Kaggle, vertaald uit het Engels] "
   ]
  },
  {
   "cell_type": "code",
   "execution_count": 2,
   "metadata": {},
   "outputs": [],
   "source": [
    "import pandas as pd\n",
    "import matplotlib.pyplot as plt\n",
    "import seaborn as sns"
   ]
  },
  {
   "cell_type": "code",
   "execution_count": 3,
   "metadata": {},
   "outputs": [],
   "source": [
    "data = pd.read_csv(\"data/spaceship_titanic.csv\")"
   ]
  },
  {
   "cell_type": "code",
   "execution_count": 4,
   "metadata": {},
   "outputs": [
    {
     "data": {
      "text/html": [
       "<div>\n",
       "<style scoped>\n",
       "    .dataframe tbody tr th:only-of-type {\n",
       "        vertical-align: middle;\n",
       "    }\n",
       "\n",
       "    .dataframe tbody tr th {\n",
       "        vertical-align: top;\n",
       "    }\n",
       "\n",
       "    .dataframe thead th {\n",
       "        text-align: right;\n",
       "    }\n",
       "</style>\n",
       "<table border=\"1\" class=\"dataframe\">\n",
       "  <thead>\n",
       "    <tr style=\"text-align: right;\">\n",
       "      <th></th>\n",
       "      <th>PassengerId</th>\n",
       "      <th>HomePlanet</th>\n",
       "      <th>CryoSleep</th>\n",
       "      <th>Cabin</th>\n",
       "      <th>Destination</th>\n",
       "      <th>Age</th>\n",
       "      <th>VIP</th>\n",
       "      <th>RoomService</th>\n",
       "      <th>FoodCourt</th>\n",
       "      <th>ShoppingMall</th>\n",
       "      <th>Spa</th>\n",
       "      <th>VRDeck</th>\n",
       "      <th>Name</th>\n",
       "      <th>Transported</th>\n",
       "    </tr>\n",
       "  </thead>\n",
       "  <tbody>\n",
       "    <tr>\n",
       "      <th>0</th>\n",
       "      <td>0001_01</td>\n",
       "      <td>Europa</td>\n",
       "      <td>False</td>\n",
       "      <td>B/0/P</td>\n",
       "      <td>TRAPPIST-1e</td>\n",
       "      <td>39.0</td>\n",
       "      <td>False</td>\n",
       "      <td>0.0</td>\n",
       "      <td>0.0</td>\n",
       "      <td>0.0</td>\n",
       "      <td>0.0</td>\n",
       "      <td>0.0</td>\n",
       "      <td>Maham Ofracculy</td>\n",
       "      <td>False</td>\n",
       "    </tr>\n",
       "    <tr>\n",
       "      <th>1</th>\n",
       "      <td>0002_01</td>\n",
       "      <td>Earth</td>\n",
       "      <td>False</td>\n",
       "      <td>F/0/S</td>\n",
       "      <td>TRAPPIST-1e</td>\n",
       "      <td>24.0</td>\n",
       "      <td>False</td>\n",
       "      <td>109.0</td>\n",
       "      <td>9.0</td>\n",
       "      <td>25.0</td>\n",
       "      <td>549.0</td>\n",
       "      <td>44.0</td>\n",
       "      <td>Juanna Vines</td>\n",
       "      <td>True</td>\n",
       "    </tr>\n",
       "    <tr>\n",
       "      <th>2</th>\n",
       "      <td>0003_01</td>\n",
       "      <td>Europa</td>\n",
       "      <td>False</td>\n",
       "      <td>A/0/S</td>\n",
       "      <td>TRAPPIST-1e</td>\n",
       "      <td>58.0</td>\n",
       "      <td>True</td>\n",
       "      <td>43.0</td>\n",
       "      <td>3576.0</td>\n",
       "      <td>0.0</td>\n",
       "      <td>6715.0</td>\n",
       "      <td>49.0</td>\n",
       "      <td>Altark Susent</td>\n",
       "      <td>False</td>\n",
       "    </tr>\n",
       "    <tr>\n",
       "      <th>3</th>\n",
       "      <td>0003_02</td>\n",
       "      <td>Europa</td>\n",
       "      <td>False</td>\n",
       "      <td>A/0/S</td>\n",
       "      <td>TRAPPIST-1e</td>\n",
       "      <td>33.0</td>\n",
       "      <td>False</td>\n",
       "      <td>0.0</td>\n",
       "      <td>1283.0</td>\n",
       "      <td>371.0</td>\n",
       "      <td>3329.0</td>\n",
       "      <td>193.0</td>\n",
       "      <td>Solam Susent</td>\n",
       "      <td>False</td>\n",
       "    </tr>\n",
       "    <tr>\n",
       "      <th>4</th>\n",
       "      <td>0004_01</td>\n",
       "      <td>Earth</td>\n",
       "      <td>False</td>\n",
       "      <td>F/1/S</td>\n",
       "      <td>TRAPPIST-1e</td>\n",
       "      <td>16.0</td>\n",
       "      <td>False</td>\n",
       "      <td>303.0</td>\n",
       "      <td>70.0</td>\n",
       "      <td>151.0</td>\n",
       "      <td>565.0</td>\n",
       "      <td>2.0</td>\n",
       "      <td>Willy Santantines</td>\n",
       "      <td>True</td>\n",
       "    </tr>\n",
       "  </tbody>\n",
       "</table>\n",
       "</div>"
      ],
      "text/plain": [
       "  PassengerId HomePlanet  CryoSleep  Cabin  Destination   Age    VIP  \\\n",
       "0     0001_01     Europa      False  B/0/P  TRAPPIST-1e  39.0  False   \n",
       "1     0002_01      Earth      False  F/0/S  TRAPPIST-1e  24.0  False   \n",
       "2     0003_01     Europa      False  A/0/S  TRAPPIST-1e  58.0   True   \n",
       "3     0003_02     Europa      False  A/0/S  TRAPPIST-1e  33.0  False   \n",
       "4     0004_01      Earth      False  F/1/S  TRAPPIST-1e  16.0  False   \n",
       "\n",
       "   RoomService  FoodCourt  ShoppingMall     Spa  VRDeck               Name  \\\n",
       "0          0.0        0.0           0.0     0.0     0.0    Maham Ofracculy   \n",
       "1        109.0        9.0          25.0   549.0    44.0       Juanna Vines   \n",
       "2         43.0     3576.0           0.0  6715.0    49.0      Altark Susent   \n",
       "3          0.0     1283.0         371.0  3329.0   193.0       Solam Susent   \n",
       "4        303.0       70.0         151.0   565.0     2.0  Willy Santantines   \n",
       "\n",
       "   Transported  \n",
       "0        False  \n",
       "1         True  \n",
       "2        False  \n",
       "3        False  \n",
       "4         True  "
      ]
     },
     "execution_count": 4,
     "metadata": {},
     "output_type": "execute_result"
    }
   ],
   "source": [
    "data.head()"
   ]
  },
  {
   "cell_type": "markdown",
   "metadata": {},
   "source": [
    "<div style=\"margin-bottom: 20px;\"></div>"
   ]
  },
  {
   "cell_type": "markdown",
   "metadata": {},
   "source": [
    "## Exploratory data analysis\n",
    "\n",
    "In dit onderdeel van het examen wordt je gevraagd een aantal vragen te beantwoorden over de dataset die je hebt ontvangen.\n",
    "\n",
    "Je wordt gevraagd om een relevante metriek, tabel of visualisatie te genereren, vergezeld van een uitleg van je bevindingen. Een tabel of visualisatie alleen is niet voldoende.\n",
    "<div style=\"margin-bottom: 20px;\"></div>"
   ]
  },
  {
   "cell_type": "markdown",
   "metadata": {},
   "source": [
    "1. Kan Age ons helpen om te bepalen of iemand vervoerd zal worden of niet? Motiveer je antwoord met een metriek, tabel of visualisatie."
   ]
  },
  {
   "cell_type": "code",
   "execution_count": null,
   "metadata": {},
   "outputs": [],
   "source": [
    "# 1. code hier"
   ]
  },
  {
   "cell_type": "markdown",
   "metadata": {},
   "source": [
    "##### 1.\n",
    "\n",
    "--- jouw interpretatie hier (in je eigen woorden) ---"
   ]
  },
  {
   "cell_type": "code",
   "execution_count": null,
   "metadata": {},
   "outputs": [],
   "source": [
    "# maak meer cellen indien nodig"
   ]
  },
  {
   "cell_type": "markdown",
   "metadata": {},
   "source": [
    "<div style=\"margin-top: 20px;\"></div>"
   ]
  },
  {
   "cell_type": "markdown",
   "metadata": {},
   "source": [
    "2. Kunnen RoomService, FoodCourt, ShoppingMall, Spa, VRDeck ons helpen bepalen of iemand al dan niet getransporteerd zal worden? Bekijk elke variabele afzonderlijk en daarna samen.  Motiveer je antwoord met een metric, tabel of visualisatie."
   ]
  },
  {
   "cell_type": "code",
   "execution_count": null,
   "metadata": {},
   "outputs": [],
   "source": [
    "# 2. code hier"
   ]
  },
  {
   "cell_type": "markdown",
   "metadata": {},
   "source": [
    "##### 2.\n",
    "\n",
    "--- jouw interpretatie hier (in je eigen woorden) ---"
   ]
  },
  {
   "cell_type": "code",
   "execution_count": null,
   "metadata": {},
   "outputs": [],
   "source": [
    "# maak meer cellen indien nodig"
   ]
  },
  {
   "cell_type": "markdown",
   "metadata": {},
   "source": [
    "<div style=\"margin-top: 20px;\"></div>"
   ]
  },
  {
   "cell_type": "markdown",
   "metadata": {},
   "source": [
    "3. Kunnen HomePlanet en Destination ons helpen bepalen of iemand al dan niet getransporteerd zal worden? Bekijk elke variabele afzonderlijk en daarna samen. Motiveer je antwoord met een metric, tabel of visualisatie."
   ]
  },
  {
   "cell_type": "code",
   "execution_count": null,
   "metadata": {},
   "outputs": [],
   "source": [
    "# 3. code hier"
   ]
  },
  {
   "cell_type": "markdown",
   "metadata": {},
   "source": [
    "##### 3. \n",
    "\n",
    "--- jouw interpretatie hier (in je eigen woorden) ---"
   ]
  },
  {
   "cell_type": "code",
   "execution_count": null,
   "metadata": {},
   "outputs": [],
   "source": [
    "# maak meer cellen indien nodig"
   ]
  },
  {
   "cell_type": "markdown",
   "metadata": {},
   "source": [
    "<div style=\"margin-top: 20px;\"></div>"
   ]
  },
  {
   "cell_type": "markdown",
   "metadata": {},
   "source": [
    "4. Kunnen PassengerId, Name en Cabin ons helpen bepalen of iemand al dan niet getransporteerd zal worden? Bekijk elke variabele afzonderlijk. Deze vraag is iets moeilijker, bekijk elke variabele zorgvuldig. Motiveer je antwoord met een metric, tabel of visualisatie."
   ]
  },
  {
   "cell_type": "code",
   "execution_count": null,
   "metadata": {},
   "outputs": [],
   "source": [
    "# 4. code hier"
   ]
  },
  {
   "cell_type": "markdown",
   "metadata": {},
   "source": [
    "##### 4.\n",
    "\n",
    "--- jouw interpretatie hier (in je eigen woorden) ---"
   ]
  },
  {
   "cell_type": "code",
   "execution_count": null,
   "metadata": {},
   "outputs": [],
   "source": [
    "# maak meer cellen indien nodig"
   ]
  },
  {
   "cell_type": "markdown",
   "metadata": {},
   "source": [
    "<div style=\"margin-top: 20px;\"></div>"
   ]
  },
  {
   "cell_type": "markdown",
   "metadata": {},
   "source": [
    "5a. De bovenstaande vragen gaan ervan uit dat we patronen willen vinden die aangeven of een passagier vervoerd zal worden. Welke andere variabele zou interessant zijn om te onderzoeken?"
   ]
  },
  {
   "cell_type": "markdown",
   "metadata": {},
   "source": [
    "##### 5a.\n",
    "\n",
    "--- alternatieve uitleg hier ---"
   ]
  },
  {
   "cell_type": "markdown",
   "metadata": {},
   "source": [
    " 5b. Op welke criteria heb je je antwoord gebaseerd?"
   ]
  },
  {
   "cell_type": "markdown",
   "metadata": {},
   "source": [
    "##### 5b. \n",
    "\n",
    "--- jouw explanatie hier ---"
   ]
  },
  {
   "cell_type": "markdown",
   "metadata": {},
   "source": [
    "5c. Kun je andere variabelen vinden die je helpen om de waarde van deze nieuwe doelvariabele te bepalen? Voeg metriek, tabellen of visualisaties en je uitleg toe."
   ]
  },
  {
   "cell_type": "code",
   "execution_count": null,
   "metadata": {},
   "outputs": [],
   "source": [
    "# 5c. code hier"
   ]
  },
  {
   "cell_type": "markdown",
   "metadata": {},
   "source": [
    "##### 5c.\n",
    "\n",
    "--- jouw interpretatie hier (in je eigen woorden) ---"
   ]
  },
  {
   "cell_type": "markdown",
   "metadata": {},
   "source": [
    "<div style=\"margin-top: 20px;\"></div>"
   ]
  },
  {
   "cell_type": "markdown",
   "metadata": {},
   "source": [
    "## Modellen trainen en evalueren\n",
    "\n",
    "Dit deel van het examen en vooral de laatste vraag zijn veel opener. Het doel is om te zien of je de methodologie correct kunt toepassen. Je wordt niet beoordeeld op de prestaties van je modellen."
   ]
  },
  {
   "cell_type": "markdown",
   "metadata": {},
   "source": [
    "<div style=\"margin-bottom: 20px;\"></div>"
   ]
  },
  {
   "cell_type": "markdown",
   "metadata": {},
   "source": [
    "1. Je twee opties om de modellen te evalueren zijn nauwkeurigheid (accuracy) en gemiddelde kwadratische fout (mean squared error). Kies een van de twee opties en motiveer waarom."
   ]
  },
  {
   "cell_type": "markdown",
   "metadata": {},
   "source": [
    "##### 1.\n",
    "\n",
    "--- schrijf hieronder---"
   ]
  },
  {
   "cell_type": "markdown",
   "metadata": {},
   "source": [
    "\n",
    "2. Je moet kiezen welke modellen je wilt trainen. Selecteer de beste optie uit elke keuze.\n",
    "\n",
    "<div style=\"padding-left: 80px;\">\n",
    "<ol type=\"a\">\n",
    "    <li>RidgeCV or LogisticRegressionCV</li>\n",
    "    <li>DecisionTreeRegressor or DecisionTreeClassifier</li>\n",
    "    <li>RandomForestRegressor or RandomForestClassifier</li>\n",
    "    <li>HistGradientBoostingRegressor or HistGradientBoostingClassifier</li>\n",
    "</ol>\n",
    "</div>"
   ]
  },
  {
   "cell_type": "markdown",
   "metadata": {},
   "source": [
    "##### 2a.\n",
    "\n",
    "--- welke model ---"
   ]
  },
  {
   "cell_type": "markdown",
   "metadata": {},
   "source": [
    "##### 2b.\n",
    "\n",
    "--- welke model ---"
   ]
  },
  {
   "cell_type": "markdown",
   "metadata": {},
   "source": [
    "##### 2c.\n",
    "\n",
    "--- welke model ---"
   ]
  },
  {
   "cell_type": "markdown",
   "metadata": {},
   "source": [
    "##### 2d.\n",
    "\n",
    "--- welke model ---"
   ]
  },
  {
   "cell_type": "markdown",
   "metadata": {},
   "source": [
    "2e. Waarom heb je die modellen geselecteerd? Je hoeft niet uit te leggen hoe deze modellen werken. Er zou één reden moeten zijn waarom je ze allemaal hebt geselecteerd."
   ]
  },
  {
   "cell_type": "markdown",
   "metadata": {},
   "source": [
    "##### 2.e\n",
    "\n",
    "--- schrijf hieronder---"
   ]
  },
  {
   "cell_type": "markdown",
   "metadata": {},
   "source": [
    "<div style=\"margin-bottom: 20px;\"></div>"
   ]
  },
  {
   "cell_type": "markdown",
   "metadata": {},
   "source": [
    "3a. Train de modellen die u hebt geselecteerd. Hiervoor is een geschikte setup nodig en waarschijnlijk meer dan één codecel."
   ]
  },
  {
   "cell_type": "code",
   "execution_count": null,
   "metadata": {},
   "outputs": [],
   "source": [
    "# 3a. code here"
   ]
  },
  {
   "cell_type": "markdown",
   "metadata": {},
   "source": [
    "3b. Evalueer de prestaties van uw modellen."
   ]
  },
  {
   "cell_type": "markdown",
   "metadata": {},
   "source": [
    "##### 3b.\n",
    "\n",
    "--- schrijf hieronder---"
   ]
  },
  {
   "cell_type": "markdown",
   "metadata": {},
   "source": [
    "3c. Leg de resultaten uit en motiveer uw evaluatieprocedure."
   ]
  },
  {
   "cell_type": "markdown",
   "metadata": {},
   "source": [
    "##### 3.C\n",
    "\n",
    "--- schrijf hieronder---"
   ]
  }
 ],
 "metadata": {
  "kernelspec": {
   "display_name": ".venv",
   "language": "python",
   "name": "python3"
  },
  "language_info": {
   "codemirror_mode": {
    "name": "ipython",
    "version": 3
   },
   "file_extension": ".py",
   "mimetype": "text/x-python",
   "name": "python",
   "nbconvert_exporter": "python",
   "pygments_lexer": "ipython3",
   "version": "3.11.9"
  },
  "orig_nbformat": 4
 },
 "nbformat": 4,
 "nbformat_minor": 2
}
