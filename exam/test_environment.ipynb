{
 "cells": [
  {
   "cell_type": "markdown",
   "metadata": {},
   "source": [
    "# Insta-Venv\n",
    "\n",
    "Normally you will have created a virtual environment during lab1 and continued to install packages as you worked through the labs.\n",
    "\n",
    "If you ever need to delete your virtual environment and start over, this can be a helpful notebook to quickly install everything you need for this course.\n",
    "\n",
    "1. Create your virtual environment following the steps in the beginning of lab1.\n",
    "2. Ensure your virtual environment is activated (Refer to images/activated venv).\n",
    "3. In case your virtual environment is new, uncomment the cell below to install all relevant packages."
   ]
  },
  {
   "cell_type": "code",
   "execution_count": null,
   "metadata": {},
   "outputs": [],
   "source": [
    "# %pip install pandas\n",
    "# %pip install seaborn\n",
    "# %pip install plotly\n",
    "# %pip install -U scikit-learn\n",
    "# %pip install nbformat --update\n",
    "    # you need to restart your kernel after updating nbformat"
   ]
  },
  {
   "cell_type": "code",
   "execution_count": 9,
   "metadata": {},
   "outputs": [],
   "source": [
    "from sklearn.linear_model import LinearRegression\n",
    "import matplotlib.pyplot as plt\n",
    "import pandas as pd\n",
    "import seaborn as sns\n",
    "import plotly.express as px"
   ]
  },
  {
   "cell_type": "markdown",
   "metadata": {},
   "source": [
    "* Test the environment by running previous labs to double check everything works as expected."
   ]
  }
 ],
 "metadata": {
  "kernelspec": {
   "display_name": ".venv",
   "language": "python",
   "name": "python3"
  },
  "language_info": {
   "codemirror_mode": {
    "name": "ipython",
    "version": 3
   },
   "file_extension": ".py",
   "mimetype": "text/x-python",
   "name": "python",
   "nbconvert_exporter": "python",
   "pygments_lexer": "ipython3",
   "version": "3.11.3"
  }
 },
 "nbformat": 4,
 "nbformat_minor": 2
}
